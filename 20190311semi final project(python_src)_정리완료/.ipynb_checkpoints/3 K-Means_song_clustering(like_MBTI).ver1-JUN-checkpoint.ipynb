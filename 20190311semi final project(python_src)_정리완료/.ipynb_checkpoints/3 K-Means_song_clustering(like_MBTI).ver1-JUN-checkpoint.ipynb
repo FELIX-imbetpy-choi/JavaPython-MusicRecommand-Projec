{
 "cells": [
  {
   "cell_type": "code",
   "execution_count": 1,
   "metadata": {},
   "outputs": [],
   "source": [
    "# Module\n",
    "import pandas as pd\n",
    "import numpy as np\n",
    "from sklearn.preprocessing import StandardScaler\n",
    "from sklearn.cluster import KMeans\n",
    "from scipy.spatial.distance import cdist\n",
    "from sklearn.metrics import silhouette_score\n",
    "from sklearn.preprocessing import MinMaxScaler\n",
    "import matplotlib.pyplot as plt\n",
    "import seaborn as sb\n",
    "%matplotlib inline\n",
    "\n",
    "import warnings\n",
    "warnings.filterwarnings('ignore')"
   ]
  },
  {
   "cell_type": "markdown",
   "metadata": {},
   "source": [
    "# K-Means(2D) - 각 군집을 계층적으로 여러번 군집화 시키기\n",
    "참고 : https://medium.com/@nsh235482/k-means-clustering-6ab85a2a32ad"
   ]
  },
  {
   "cell_type": "markdown",
   "metadata": {},
   "source": [
    "### API 데이터 정리\n",
    ">#### acousticness \n",
    ">> 트랙의 음향에서 어쿠스틱 요소 여부에 대해 0.0에서 1.0까지의 특성을 측정. 1.0은 트랙이 어쿠스틱적이라는 측정.     \n",
    "\n",
    "> #### danceability  \n",
    ">> 곡이 가지는 템포, 리듬의 안정성, 박자 강도 및 전반적인 규칙성을 포함한 음악 요소의 조합에 따라 춤에 적합한 트랙을 설명합니다.    \n",
    "0.0 부터 1.0까지의 값이 존재하고, 1.0은 가장 무용에 적합합니다.         \n",
    "\n",
    ">#### duration_ms  : 밀리 초 단위의 트랙 지속 시간.      \n",
    "\n",
    ">#### energy      \n",
    ">> 곡이 얼마나 강렬하고 활동적인지를 측정한 값. 0.0에서 1.0까지 값이 존재.     \n",
    "일반적으로 활기찬 트랙은 빠르고 시끄럽습니다.     \n",
    "예를 들어, 데스 메탈은 높은 에너지를 가지고있는 반면 바흐 서곡은 낮은 점수를 얻습니다.     \n",
    "이 속성에 기여하는 지각 특징은 동적 범위,인지 된 소리 크기, 음색, 시작 속도 및 일반 엔트로피를 포함합니다.     \n",
    "이 기능의 값 분포는 다음과 같습니다.    \n",
    "\n",
    ">#### instrumentalness   \n",
    ">> 트랙에 보컬이 없는지 여부를 예측합니다.    \n",
    "\"우\"와 \"아\"소리는 문맥에서 판단도구로 취급됩니다.     \n",
    "Instrumentalness 값이 1.0에 가까울수록 트랙에 보컬 콘텐츠가 포함되지 않을 확률이 높아집니다.      \n",
    "0.5 이상의 값은 악기 트랙을 나타 내기위한 것이지만 값이 1.0에 가까워 질수록 보컬트랙이 포함될 가능성이 높습니다.     \n",
    "  \n",
    ">#### key     \n",
    ">> 음악의 전체적인 키를 표시합니다.    \n",
    "예 : 0 = C, 1 = C # / D ♭, 2 = D 등. 키가 발견되지 않으면 값은 -1입니다.    \n",
    "\n",
    ">#### liveness      \n",
    ">> 0.8보다 큰 값은 트랙이 라이브 트랙일 가능성이 큽니다.   \n",
    "\n",
    ">#### loudness      \n",
    ">> 트랙의 전체 소리 크기 (데시벨 (dB))입니다.     \n",
    "음량 값은 전체 트랙에서 평균화되며 트랙의 상대적 음량을 비교하는 데 유용합니다.     \n",
    "값 범위는 -60에서 0 db 사이입니다.    \n",
    "\n",
    ">#### mode        \n",
    "\n",
    ">#### speechiness \n",
    ">> Speechiness는 트랙에서 말한 단어의 존재를 감지합니다.    \n",
    "독점적으로 말하기와 같은 녹음 (예 : 토크쇼, 오디오 북,시)은 1.0에 가까워집니다.    \n",
    "0.66 이상의 값은 전적으로 음성 단어로 만들어진 트랙을 나타냅니다.   \n",
    "0.33에서 0.66 사이의 값은 랩 음악과 같은 경우를 포함하여 섹션 또는 계층으로 음악과 음성을 모두 포함 할 수있는 트랙을 나타냅니다.   \n",
    "0.33 미만의 값은 음악 및 기타 비언 연적 트랙을 나타낼 가능성이 가장 높습니다.     \n",
    " \n",
    ">#### tempo \n",
    ">> 분당 비트 수 (BPM)로 트랙의 전체 예상 템포.   \n",
    "음악 용어에서 템포는 주어진 곡의 속도 또는 속도이며 평균 비트 지속 시간에서 직접 파생됩니다.    \n",
    "\n",
    ">#### time_signature \n",
    ">> 박자\n",
    "\n",
    ">#### valence        \n",
    ">> 트랙에 의해 전달되는 음악적 양립성을 나타내는 0.0에서 1.0까지의 측정 값입니다.     \n",
    "높은 원자가를 가진 트랙은 긍정적 (예 : 행복, 쾌활, 행복),    \n",
    "낮은 원자가의 트랙은 더 부정적 (예 : 슬프고 우울, 분노)합니다.    "
   ]
  },
  {
   "cell_type": "code",
   "execution_count": 3,
   "metadata": {},
   "outputs": [],
   "source": [
    "# 데이터 불러오기 API data\n",
    "songs = pd.read_csv('./data/SpotifyAudioFeatures2000_2018.csv')"
   ]
  },
  {
   "cell_type": "code",
   "execution_count": 4,
   "metadata": {},
   "outputs": [
    {
     "name": "stdout",
     "output_type": "stream",
     "text": [
      "<class 'pandas.core.frame.DataFrame'>\n",
      "RangeIndex: 169299 entries, 0 to 169298\n",
      "Data columns (total 22 columns):\n",
      "Unnamed: 0          169299 non-null int64\n",
      "Unnamed: 0.1        169299 non-null int64\n",
      "artist_name         169299 non-null object\n",
      "track_name          169299 non-null object\n",
      "track_id            169299 non-null object\n",
      "popularity          169299 non-null int64\n",
      "url                 169299 non-null object\n",
      "images              169264 non-null object\n",
      "date                169299 non-null object\n",
      "acousticness        169299 non-null float64\n",
      "danceability        169299 non-null float64\n",
      "duration_ms         169299 non-null int64\n",
      "energy              169299 non-null float64\n",
      "instrumentalness    169299 non-null float64\n",
      "key                 169299 non-null int64\n",
      "liveness            169299 non-null float64\n",
      "loudness            169299 non-null float64\n",
      "mode                169299 non-null int64\n",
      "speechiness         169299 non-null float64\n",
      "tempo               169299 non-null float64\n",
      "time_signature      169299 non-null int64\n",
      "valence             169299 non-null float64\n",
      "dtypes: float64(9), int64(7), object(6)\n",
      "memory usage: 28.4+ MB\n"
     ]
    }
   ],
   "source": [
    "# 데이터 확인\n",
    "songs.info()"
   ]
  },
  {
   "cell_type": "code",
   "execution_count": 5,
   "metadata": {},
   "outputs": [],
   "source": [
    "del songs['Unnamed: 0']\n",
    "del songs['Unnamed: 0.1']"
   ]
  },
  {
   "cell_type": "markdown",
   "metadata": {},
   "source": [
    "#### 표준화"
   ]
  },
  {
   "cell_type": "code",
   "execution_count": 6,
   "metadata": {},
   "outputs": [
    {
     "data": {
      "text/html": [
       "<div>\n",
       "<style scoped>\n",
       "    .dataframe tbody tr th:only-of-type {\n",
       "        vertical-align: middle;\n",
       "    }\n",
       "\n",
       "    .dataframe tbody tr th {\n",
       "        vertical-align: top;\n",
       "    }\n",
       "\n",
       "    .dataframe thead th {\n",
       "        text-align: right;\n",
       "    }\n",
       "</style>\n",
       "<table border=\"1\" class=\"dataframe\">\n",
       "  <thead>\n",
       "    <tr style=\"text-align: right;\">\n",
       "      <th></th>\n",
       "      <th>popularity</th>\n",
       "      <th>acousticness</th>\n",
       "      <th>danceability</th>\n",
       "      <th>duration_ms</th>\n",
       "      <th>energy</th>\n",
       "      <th>instrumentalness</th>\n",
       "      <th>key</th>\n",
       "      <th>liveness</th>\n",
       "      <th>loudness</th>\n",
       "      <th>mode</th>\n",
       "      <th>speechiness</th>\n",
       "      <th>tempo</th>\n",
       "      <th>time_signature</th>\n",
       "      <th>valence</th>\n",
       "    </tr>\n",
       "  </thead>\n",
       "  <tbody>\n",
       "    <tr>\n",
       "      <th>count</th>\n",
       "      <td>169299.000000</td>\n",
       "      <td>169299.000000</td>\n",
       "      <td>169299.000000</td>\n",
       "      <td>1.692990e+05</td>\n",
       "      <td>169299.000000</td>\n",
       "      <td>169299.000000</td>\n",
       "      <td>169299.000000</td>\n",
       "      <td>169299.000000</td>\n",
       "      <td>169299.000000</td>\n",
       "      <td>169299.000000</td>\n",
       "      <td>169299.000000</td>\n",
       "      <td>169299.000000</td>\n",
       "      <td>169299.000000</td>\n",
       "      <td>169299.000000</td>\n",
       "    </tr>\n",
       "    <tr>\n",
       "      <th>mean</th>\n",
       "      <td>40.418750</td>\n",
       "      <td>0.298974</td>\n",
       "      <td>0.562309</td>\n",
       "      <td>2.362045e+05</td>\n",
       "      <td>0.626488</td>\n",
       "      <td>0.124892</td>\n",
       "      <td>5.257645</td>\n",
       "      <td>0.206260</td>\n",
       "      <td>-8.097425</td>\n",
       "      <td>0.668002</td>\n",
       "      <td>0.096151</td>\n",
       "      <td>120.250754</td>\n",
       "      <td>3.892829</td>\n",
       "      <td>0.481786</td>\n",
       "    </tr>\n",
       "    <tr>\n",
       "      <th>std</th>\n",
       "      <td>11.893513</td>\n",
       "      <td>0.322394</td>\n",
       "      <td>0.178118</td>\n",
       "      <td>1.100092e+05</td>\n",
       "      <td>0.247669</td>\n",
       "      <td>0.281089</td>\n",
       "      <td>3.558541</td>\n",
       "      <td>0.183229</td>\n",
       "      <td>4.915052</td>\n",
       "      <td>0.470932</td>\n",
       "      <td>0.122897</td>\n",
       "      <td>30.722586</td>\n",
       "      <td>0.442913</td>\n",
       "      <td>0.258444</td>\n",
       "    </tr>\n",
       "    <tr>\n",
       "      <th>min</th>\n",
       "      <td>16.000000</td>\n",
       "      <td>0.000000</td>\n",
       "      <td>0.000000</td>\n",
       "      <td>7.229000e+03</td>\n",
       "      <td>0.000000</td>\n",
       "      <td>0.000000</td>\n",
       "      <td>0.000000</td>\n",
       "      <td>0.000000</td>\n",
       "      <td>-60.000000</td>\n",
       "      <td>0.000000</td>\n",
       "      <td>0.000000</td>\n",
       "      <td>0.000000</td>\n",
       "      <td>0.000000</td>\n",
       "      <td>0.000000</td>\n",
       "    </tr>\n",
       "    <tr>\n",
       "      <th>25%</th>\n",
       "      <td>31.000000</td>\n",
       "      <td>0.019400</td>\n",
       "      <td>0.447000</td>\n",
       "      <td>1.899470e+05</td>\n",
       "      <td>0.465000</td>\n",
       "      <td>0.000000</td>\n",
       "      <td>2.000000</td>\n",
       "      <td>0.097000</td>\n",
       "      <td>-9.564000</td>\n",
       "      <td>0.000000</td>\n",
       "      <td>0.035000</td>\n",
       "      <td>95.751500</td>\n",
       "      <td>4.000000</td>\n",
       "      <td>0.273000</td>\n",
       "    </tr>\n",
       "    <tr>\n",
       "      <th>50%</th>\n",
       "      <td>39.000000</td>\n",
       "      <td>0.157000</td>\n",
       "      <td>0.572000</td>\n",
       "      <td>2.243460e+05</td>\n",
       "      <td>0.664000</td>\n",
       "      <td>0.000019</td>\n",
       "      <td>5.000000</td>\n",
       "      <td>0.129000</td>\n",
       "      <td>-6.796000</td>\n",
       "      <td>1.000000</td>\n",
       "      <td>0.048400</td>\n",
       "      <td>119.455000</td>\n",
       "      <td>4.000000</td>\n",
       "      <td>0.472000</td>\n",
       "    </tr>\n",
       "    <tr>\n",
       "      <th>75%</th>\n",
       "      <td>48.000000</td>\n",
       "      <td>0.542000</td>\n",
       "      <td>0.693000</td>\n",
       "      <td>2.649000e+05</td>\n",
       "      <td>0.830000</td>\n",
       "      <td>0.012700</td>\n",
       "      <td>8.000000</td>\n",
       "      <td>0.261000</td>\n",
       "      <td>-5.015000</td>\n",
       "      <td>1.000000</td>\n",
       "      <td>0.096500</td>\n",
       "      <td>140.035000</td>\n",
       "      <td>4.000000</td>\n",
       "      <td>0.687000</td>\n",
       "    </tr>\n",
       "    <tr>\n",
       "      <th>max</th>\n",
       "      <td>98.000000</td>\n",
       "      <td>0.996000</td>\n",
       "      <td>0.987000</td>\n",
       "      <td>5.403500e+06</td>\n",
       "      <td>1.000000</td>\n",
       "      <td>1.000000</td>\n",
       "      <td>11.000000</td>\n",
       "      <td>1.000000</td>\n",
       "      <td>2.039000</td>\n",
       "      <td>1.000000</td>\n",
       "      <td>0.965000</td>\n",
       "      <td>232.690000</td>\n",
       "      <td>5.000000</td>\n",
       "      <td>1.000000</td>\n",
       "    </tr>\n",
       "  </tbody>\n",
       "</table>\n",
       "</div>"
      ],
      "text/plain": [
       "          popularity   acousticness   danceability   duration_ms  \\\n",
       "count  169299.000000  169299.000000  169299.000000  1.692990e+05   \n",
       "mean       40.418750       0.298974       0.562309  2.362045e+05   \n",
       "std        11.893513       0.322394       0.178118  1.100092e+05   \n",
       "min        16.000000       0.000000       0.000000  7.229000e+03   \n",
       "25%        31.000000       0.019400       0.447000  1.899470e+05   \n",
       "50%        39.000000       0.157000       0.572000  2.243460e+05   \n",
       "75%        48.000000       0.542000       0.693000  2.649000e+05   \n",
       "max        98.000000       0.996000       0.987000  5.403500e+06   \n",
       "\n",
       "              energy  instrumentalness            key       liveness  \\\n",
       "count  169299.000000     169299.000000  169299.000000  169299.000000   \n",
       "mean        0.626488          0.124892       5.257645       0.206260   \n",
       "std         0.247669          0.281089       3.558541       0.183229   \n",
       "min         0.000000          0.000000       0.000000       0.000000   \n",
       "25%         0.465000          0.000000       2.000000       0.097000   \n",
       "50%         0.664000          0.000019       5.000000       0.129000   \n",
       "75%         0.830000          0.012700       8.000000       0.261000   \n",
       "max         1.000000          1.000000      11.000000       1.000000   \n",
       "\n",
       "            loudness           mode    speechiness          tempo  \\\n",
       "count  169299.000000  169299.000000  169299.000000  169299.000000   \n",
       "mean       -8.097425       0.668002       0.096151     120.250754   \n",
       "std         4.915052       0.470932       0.122897      30.722586   \n",
       "min       -60.000000       0.000000       0.000000       0.000000   \n",
       "25%        -9.564000       0.000000       0.035000      95.751500   \n",
       "50%        -6.796000       1.000000       0.048400     119.455000   \n",
       "75%        -5.015000       1.000000       0.096500     140.035000   \n",
       "max         2.039000       1.000000       0.965000     232.690000   \n",
       "\n",
       "       time_signature        valence  \n",
       "count   169299.000000  169299.000000  \n",
       "mean         3.892829       0.481786  \n",
       "std          0.442913       0.258444  \n",
       "min          0.000000       0.000000  \n",
       "25%          4.000000       0.273000  \n",
       "50%          4.000000       0.472000  \n",
       "75%          4.000000       0.687000  \n",
       "max          5.000000       1.000000  "
      ]
     },
     "execution_count": 6,
     "metadata": {},
     "output_type": "execute_result"
    }
   ],
   "source": [
    "# 기초 통계량 확인\n",
    "songs.describe()"
   ]
  },
  {
   "cell_type": "code",
   "execution_count": 7,
   "metadata": {},
   "outputs": [],
   "source": [
    "# 연속변수로 구성된 컬럼만 선택하여 데이터프레임 만들기\n",
    "target_col = ['popularity','duration_ms','key','acousticness','danceability','energy','instrumentalness',\n",
    "              'liveness','loudness','speechiness','time_signature','tempo','valence']\n",
    "df = songs[target_col]\n",
    "\n",
    "# 표준화 필요한 컬럼 \n",
    "# 판단1 : popularity, duration_ms, key, loudness, tempo,time_signature (0에서 1 사이가 아닌 것 모두 표준화)\n",
    "\n",
    "# 판단1\n",
    "cols = ['popularity', 'duration_ms', 'key', 'loudness', 'tempo','time_signature']\n",
    "\n",
    "# 판단1 표준화\n",
    "data = songs[cols]\n",
    "standardized_data = MinMaxScaler().fit_transform(data)\n",
    "\n",
    "# 표준화 칼럼 재생산\n",
    "df = pd.DataFrame(standardized_data)\n",
    "df1 = df.rename(columns={0: 'popularity', 1: 'duration_ms', 2: 'key', 3: 'loudness', 4: 'tempo', 5: 'time_signature'})\n",
    "\n",
    "# 데이터 합치기\n",
    "cols_2 = ['acousticness', 'danceability', 'energy', 'instrumentalness', 'liveness', 'speechiness',\n",
    "          'valence']\n",
    "df2 = songs[cols_2]\n",
    "\n",
    "# int, float 컬럼 중 표준화 안 해도 되는 컬럼과 표준화한 컬럼 합치기\n",
    "songs_1 = pd.concat([df1, df2], axis=1)"
   ]
  },
  {
   "cell_type": "code",
   "execution_count": 8,
   "metadata": {},
   "outputs": [
    {
     "data": {
      "text/html": [
       "<div>\n",
       "<style scoped>\n",
       "    .dataframe tbody tr th:only-of-type {\n",
       "        vertical-align: middle;\n",
       "    }\n",
       "\n",
       "    .dataframe tbody tr th {\n",
       "        vertical-align: top;\n",
       "    }\n",
       "\n",
       "    .dataframe thead th {\n",
       "        text-align: right;\n",
       "    }\n",
       "</style>\n",
       "<table border=\"1\" class=\"dataframe\">\n",
       "  <thead>\n",
       "    <tr style=\"text-align: right;\">\n",
       "      <th></th>\n",
       "      <th>popularity</th>\n",
       "      <th>duration_ms</th>\n",
       "      <th>key</th>\n",
       "      <th>loudness</th>\n",
       "      <th>tempo</th>\n",
       "      <th>time_signature</th>\n",
       "      <th>acousticness</th>\n",
       "      <th>danceability</th>\n",
       "      <th>energy</th>\n",
       "      <th>instrumentalness</th>\n",
       "      <th>liveness</th>\n",
       "      <th>speechiness</th>\n",
       "      <th>valence</th>\n",
       "    </tr>\n",
       "  </thead>\n",
       "  <tbody>\n",
       "    <tr>\n",
       "      <th>0</th>\n",
       "      <td>0.817073</td>\n",
       "      <td>0.038861</td>\n",
       "      <td>0.272727</td>\n",
       "      <td>0.863860</td>\n",
       "      <td>0.452344</td>\n",
       "      <td>0.8</td>\n",
       "      <td>0.01030</td>\n",
       "      <td>0.542</td>\n",
       "      <td>0.853</td>\n",
       "      <td>0.000000</td>\n",
       "      <td>0.1080</td>\n",
       "      <td>0.0498</td>\n",
       "      <td>0.370</td>\n",
       "    </tr>\n",
       "    <tr>\n",
       "      <th>1</th>\n",
       "      <td>0.756098</td>\n",
       "      <td>0.042011</td>\n",
       "      <td>1.000000</td>\n",
       "      <td>0.875127</td>\n",
       "      <td>0.425502</td>\n",
       "      <td>0.8</td>\n",
       "      <td>0.00664</td>\n",
       "      <td>0.545</td>\n",
       "      <td>0.865</td>\n",
       "      <td>0.000011</td>\n",
       "      <td>0.1680</td>\n",
       "      <td>0.0286</td>\n",
       "      <td>0.543</td>\n",
       "    </tr>\n",
       "    <tr>\n",
       "      <th>2</th>\n",
       "      <td>0.756098</td>\n",
       "      <td>0.051326</td>\n",
       "      <td>0.454545</td>\n",
       "      <td>0.898048</td>\n",
       "      <td>0.449113</td>\n",
       "      <td>0.8</td>\n",
       "      <td>0.03390</td>\n",
       "      <td>0.950</td>\n",
       "      <td>0.665</td>\n",
       "      <td>0.000000</td>\n",
       "      <td>0.0453</td>\n",
       "      <td>0.0610</td>\n",
       "      <td>0.760</td>\n",
       "    </tr>\n",
       "    <tr>\n",
       "      <th>3</th>\n",
       "      <td>0.743902</td>\n",
       "      <td>0.048789</td>\n",
       "      <td>0.363636</td>\n",
       "      <td>0.871291</td>\n",
       "      <td>0.408036</td>\n",
       "      <td>0.8</td>\n",
       "      <td>0.14200</td>\n",
       "      <td>0.843</td>\n",
       "      <td>0.805</td>\n",
       "      <td>0.000000</td>\n",
       "      <td>0.0771</td>\n",
       "      <td>0.2690</td>\n",
       "      <td>0.615</td>\n",
       "    </tr>\n",
       "    <tr>\n",
       "      <th>4</th>\n",
       "      <td>0.792683</td>\n",
       "      <td>0.048097</td>\n",
       "      <td>1.000000</td>\n",
       "      <td>0.850642</td>\n",
       "      <td>0.745047</td>\n",
       "      <td>0.8</td>\n",
       "      <td>0.00239</td>\n",
       "      <td>0.429</td>\n",
       "      <td>0.661</td>\n",
       "      <td>0.000130</td>\n",
       "      <td>0.2340</td>\n",
       "      <td>0.0281</td>\n",
       "      <td>0.285</td>\n",
       "    </tr>\n",
       "  </tbody>\n",
       "</table>\n",
       "</div>"
      ],
      "text/plain": [
       "   popularity  duration_ms       key  loudness     tempo  time_signature  \\\n",
       "0    0.817073     0.038861  0.272727  0.863860  0.452344             0.8   \n",
       "1    0.756098     0.042011  1.000000  0.875127  0.425502             0.8   \n",
       "2    0.756098     0.051326  0.454545  0.898048  0.449113             0.8   \n",
       "3    0.743902     0.048789  0.363636  0.871291  0.408036             0.8   \n",
       "4    0.792683     0.048097  1.000000  0.850642  0.745047             0.8   \n",
       "\n",
       "   acousticness  danceability  energy  instrumentalness  liveness  \\\n",
       "0       0.01030         0.542   0.853          0.000000    0.1080   \n",
       "1       0.00664         0.545   0.865          0.000011    0.1680   \n",
       "2       0.03390         0.950   0.665          0.000000    0.0453   \n",
       "3       0.14200         0.843   0.805          0.000000    0.0771   \n",
       "4       0.00239         0.429   0.661          0.000130    0.2340   \n",
       "\n",
       "   speechiness  valence  \n",
       "0       0.0498    0.370  \n",
       "1       0.0286    0.543  \n",
       "2       0.0610    0.760  \n",
       "3       0.2690    0.615  \n",
       "4       0.0281    0.285  "
      ]
     },
     "execution_count": 8,
     "metadata": {},
     "output_type": "execute_result"
    }
   ],
   "source": [
    "songs_1.head()"
   ]
  },
  {
   "cell_type": "code",
   "execution_count": 9,
   "metadata": {
    "scrolled": true
   },
   "outputs": [
    {
     "data": {
      "text/plain": [
       "array([0.27272727, 1.        , 0.45454545, 0.36363636, 0.72727273,\n",
       "       0.63636364, 0.09090909, 0.90909091, 0.        , 0.54545455,\n",
       "       0.18181818, 0.81818182])"
      ]
     },
     "execution_count": 9,
     "metadata": {},
     "output_type": "execute_result"
    }
   ],
   "source": [
    "# 키 값은 이미 군집화가 되어 있는 것과 마찬가지\n",
    "songs_1['key'].unique()"
   ]
  },
  {
   "cell_type": "markdown",
   "metadata": {},
   "source": [
    "# MBTI 방식 군집화"
   ]
  },
  {
   "cell_type": "code",
   "execution_count": 10,
   "metadata": {},
   "outputs": [],
   "source": [
    "# 클러스터링 할 칼럼들 정\n",
    "songs_1.head(2)\n",
    "# 계층 선택1 - speechiness bpm 에 따라 음악과 음악 아닌것이 나뉠 것!\n",
    "hierarchy1 = songs_1[['popularity']]\n",
    "hierarchy2 = songs_1[['loudness']]\n",
    "hierarchy3 = songs_1[['tempo']]\n",
    "hierarchy4 = songs_1[['time_signature']]\n",
    "hierarchy5 = songs_1[['acousticness']]\n",
    "hierarchy6 = songs_1[['danceability']]\n",
    "hierarchy7 = songs_1[['energy']]\n",
    "hierarchy8 = songs_1[['instrumentalness']]\n",
    "hierarchy9 = songs_1[['liveness']]\n",
    "hierarchy10 = songs_1[['speechiness']]\n",
    "hierarchy11 = songs_1[['valence']]\n",
    "hierarchy12 = songs_1[['key']]"
   ]
  },
  {
   "cell_type": "markdown",
   "metadata": {},
   "source": [
    "#### 1 popularity\n",
    "곡의 인기도"
   ]
  },
  {
   "cell_type": "code",
   "execution_count": 10,
   "metadata": {},
   "outputs": [
    {
     "data": {
      "image/png": "[encoded data removed]",
      "text/plain": [
       "<Figure size 432x288 with 1 Axes>"
      ]
     },
     "metadata": {
      "needs_background": "light"
     },
     "output_type": "display_data"
    }
   ],
   "source": [
    "# 최적의 클러스터 갯수 찾기: Elbow Method\n",
    "distortions = []\n",
    "K = range(1,10)\n",
    "\n",
    "for k in K:\n",
    "    kmeanModel = KMeans(n_clusters=k).fit(hierarchy1)\n",
    "    kmeanModel.fit(hierarchy1)\n",
    "    distortions.append(sum(np.min(cdist(hierarchy1, kmeanModel.cluster_centers_, 'euclidean'), axis=1)) / hierarchy1.shape[0])\n",
    "# Plot the elbow\n",
    "plt.plot(K, distortions, 'bx-')\n",
    "plt.xlabel('k')\n",
    "plt.ylabel('Distortion')\n",
    "plt.title('The Elbow Method showing the optimal k')\n",
    "plt.show()"
   ]
  },
  {
   "cell_type": "code",
   "execution_count": 11,
   "metadata": {},
   "outputs": [
    {
     "name": "stdout",
     "output_type": "stream",
     "text": [
      "For n_clusters=2, The Silhouette Coefficient is 0.5868567298489911\n",
      "For n_clusters=3, The Silhouette Coefficient is 0.548746782648426\n",
      "For n_clusters=4, The Silhouette Coefficient is 0.5380372575348401\n",
      "For n_clusters=5, The Silhouette Coefficient is 0.5323690836043025\n",
      "For n_clusters=6, The Silhouette Coefficient is 0.5302532424597443\n",
      "For n_clusters=7, The Silhouette Coefficient is 0.5293983710693129\n",
      "For n_clusters=8, The Silhouette Coefficient is 0.5355059860334702\n",
      "For n_clusters=9, The Silhouette Coefficient is 0.5411837718378677\n",
      "For n_clusters=10, The Silhouette Coefficient is 0.5404761179345079\n",
      "\n",
      "--------------------------2만개 data 결과----------------------\n",
      "For n_clusters=2, The Silhouette Coefficient is 0.5751837615730765\n",
      "For n_clusters=3, The Silhouette Coefficient is 0.5509968511379394\n",
      "For n_clusters=4, The Silhouette Coefficient is 0.5307107138999458\n",
      "For n_clusters=5, The Silhouette Coefficient is 0.5326249445947965\n",
      "For n_clusters=6, The Silhouette Coefficient is 0.5364719576280557\n",
      "For n_clusters=7, The Silhouette Coefficient is 0.5441572605307432\n",
      "For n_clusters=8, The Silhouette Coefficient is 0.5336959965189784\n",
      "For n_clusters=9, The Silhouette Coefficient is 0.5391537426346139\n",
      "For n_clusters=10, The Silhouette Coefficient is 0.5385611421080735\n",
      "\n"
     ]
    }
   ],
   "source": [
    "# 최적의 클러스터 갯수 찾기: Silhouette Coefficient(계수가 가장 높은 것이 최적 클러스터 갯수)\n",
    "for n_cluster in range(2, 11):\n",
    "    kmeans = KMeans(n_clusters=n_cluster).fit(hierarchy1)\n",
    "    label = kmeans.labels_\n",
    "    sil_coeff = silhouette_score(hierarchy1, label, metric='euclidean')\n",
    "    print(\"For n_clusters={}, The Silhouette Coefficient is {}\".format(n_cluster, sil_coeff))\n",
    "    \n",
    "print(\"\"\"\n",
    "--------------------------2만개 data 결과----------------------\n",
    "For n_clusters=2, The Silhouette Coefficient is 0.5751837615730765\n",
    "For n_clusters=3, The Silhouette Coefficient is 0.5509968511379394\n",
    "For n_clusters=4, The Silhouette Coefficient is 0.5307107138999458\n",
    "For n_clusters=5, The Silhouette Coefficient is 0.5326249445947965\n",
    "For n_clusters=6, The Silhouette Coefficient is 0.5364719576280557\n",
    "For n_clusters=7, The Silhouette Coefficient is 0.5441572605307432\n",
    "For n_clusters=8, The Silhouette Coefficient is 0.5336959965189784\n",
    "For n_clusters=9, The Silhouette Coefficient is 0.5391537426346139\n",
    "For n_clusters=10, The Silhouette Coefficient is 0.5385611421080735\n",
    "\"\"\")"
   ]
  },
  {
   "cell_type": "code",
   "execution_count": 12,
   "metadata": {},
   "outputs": [
    {
     "data": {
      "text/plain": [
       "Text(0.5, 1.0, '2D K-means Result')"
      ]
     },
     "execution_count": 12,
     "metadata": {},
     "output_type": "execute_result"
    },
    {
     "data": {
      "image/png": "[encoded data removed]",
      "text/plain": [
       "<Figure size 402.375x360 with 1 Axes>"
      ]
     },
     "metadata": {
      "needs_background": "light"
     },
     "output_type": "display_data"
    }
   ],
   "source": [
    "hierarchy1 = songs_1[['popularity']]\n",
    "\n",
    "# Fit the model.\n",
    "model = KMeans(n_clusters=3,random_state=10).fit(hierarchy1)\n",
    "\n",
    "# Get results.\n",
    "hierarchy1['cluster'] = model.predict(hierarchy1)\n",
    "\n",
    "# 결과값 살펴보기\n",
    "hierarchy1['cluster'].unique()\n",
    "\n",
    "# fit_reg = False는 회귀 옵션 제거, scatter_kws = {\"s\":50}는 산점도 그래프 점 크기 설정\n",
    "sb.lmplot('popularity','popularity',data = hierarchy1, fit_reg = False, scatter_kws = {\"s\":150}, hue = \"cluster\")\n",
    "plt.title('2D K-means Result')"
   ]
  },
  {
   "cell_type": "code",
   "execution_count": 13,
   "metadata": {},
   "outputs": [],
   "source": [
    "# # # 나타난 특성에 따라서 실제 곡들 살펴보기\n",
    "# hierarchy1=pd.concat([songs['song_name'], hierarchy1], axis=1)\n",
    "# hierarchy1"
   ]
  },
  {
   "cell_type": "code",
   "execution_count": 14,
   "metadata": {},
   "outputs": [],
   "source": [
    "# hierarchy1df = pd.DataFrame(hierarchy1)\n",
    "# hierarchy1df.loc[(hierarchy1df['cluster']==1)&(hierarchy1df['speechiness']>0.6), :]"
   ]
  },
  {
   "cell_type": "markdown",
   "metadata": {},
   "source": [
    "#### 2 loudness\n",
    "트랙의 전체 소리 크기 (데시벨 (dB))입니다.     \n",
    "음량 값은 전체 트랙에서 평균화되며 트랙의 상대적 음량을 비교하는 데 유용합니다.     "
   ]
  },
  {
   "cell_type": "code",
   "execution_count": 15,
   "metadata": {},
   "outputs": [
    {
     "data": {
      "image/png": "[encoded data removed]",
      "text/plain": [
       "<Figure size 432x288 with 1 Axes>"
      ]
     },
     "metadata": {
      "needs_background": "light"
     },
     "output_type": "display_data"
    }
   ],
   "source": [
    "# 최적의 클러스터 갯수 찾기: Elbow Method\n",
    "distortions = []\n",
    "K = range(1,10)\n",
    "\n",
    "for k in K:\n",
    "    kmeanModel = KMeans(n_clusters=k).fit(hierarchy2)\n",
    "    kmeanModel.fit(hierarchy2)\n",
    "    distortions.append(sum(np.min(cdist(hierarchy2, kmeanModel.cluster_centers_, 'euclidean'), axis=1)) / hierarchy2.shape[0])\n",
    "# Plot the elbow\n",
    "plt.plot(K, distortions, 'bx-')\n",
    "plt.xlabel('k')\n",
    "plt.ylabel('Distortion')\n",
    "plt.title('The Elbow Method showing the optimal k')\n",
    "plt.show()"
   ]
  },
  {
   "cell_type": "code",
   "execution_count": 16,
   "metadata": {},
   "outputs": [
    {
     "name": "stdout",
     "output_type": "stream",
     "text": [
      "For n_clusters=2, The Silhouette Coefficient is 0.6962754387135065\n",
      "For n_clusters=3, The Silhouette Coefficient is 0.5975371649287224\n",
      "For n_clusters=4, The Silhouette Coefficient is 0.5557282511344178\n",
      "For n_clusters=5, The Silhouette Coefficient is 0.5415145371210176\n",
      "For n_clusters=6, The Silhouette Coefficient is 0.5318595729893194\n",
      "For n_clusters=7, The Silhouette Coefficient is 0.5261570673209061\n",
      "For n_clusters=8, The Silhouette Coefficient is 0.5251369326129397\n",
      "For n_clusters=9, The Silhouette Coefficient is 0.5221376438590039\n",
      "For n_clusters=10, The Silhouette Coefficient is 0.5203449623974663\n",
      "\n",
      "--------------------------2만개 data 결과----------------------\n",
      "For n_clusters=2, The Silhouette Coefficient is 0.6283248150926813\n",
      "For n_clusters=3, The Silhouette Coefficient is 0.5831735457971926\n",
      "For n_clusters=4, The Silhouette Coefficient is 0.5477067151228406\n",
      "For n_clusters=5, The Silhouette Coefficient is 0.5315661952956746\n",
      "For n_clusters=6, The Silhouette Coefficient is 0.5276637871796089\n",
      "For n_clusters=7, The Silhouette Coefficient is 0.5305875227215471\n",
      "For n_clusters=8, The Silhouette Coefficient is 0.5175514532368998\n",
      "For n_clusters=9, The Silhouette Coefficient is 0.5239805159500566\n",
      "For n_clusters=10, The Silhouette Coefficient is 0.5258364734902196\n",
      "\n"
     ]
    }
   ],
   "source": [
    "# 최적의 클러스터 갯수 찾기: Silhouette Coefficient(계수가 가장 높은 것이 최적 클러스터 갯수)\n",
    "for n_cluster in range(2, 11):\n",
    "    kmeans = KMeans(n_clusters=n_cluster).fit(hierarchy2)\n",
    "    label = kmeans.labels_\n",
    "    sil_coeff = silhouette_score(hierarchy2, label, metric='euclidean')\n",
    "    print(\"For n_clusters={}, The Silhouette Coefficient is {}\".format(n_cluster, sil_coeff))\n",
    "    \n",
    "print(\"\"\"\n",
    "--------------------------2만개 data 결과----------------------\n",
    "For n_clusters=2, The Silhouette Coefficient is 0.6283248150926813\n",
    "For n_clusters=3, The Silhouette Coefficient is 0.5831735457971926\n",
    "For n_clusters=4, The Silhouette Coefficient is 0.5477067151228406\n",
    "For n_clusters=5, The Silhouette Coefficient is 0.5315661952956746\n",
    "For n_clusters=6, The Silhouette Coefficient is 0.5276637871796089\n",
    "For n_clusters=7, The Silhouette Coefficient is 0.5305875227215471\n",
    "For n_clusters=8, The Silhouette Coefficient is 0.5175514532368998\n",
    "For n_clusters=9, The Silhouette Coefficient is 0.5239805159500566\n",
    "For n_clusters=10, The Silhouette Coefficient is 0.5258364734902196\n",
    "\"\"\")"
   ]
  },
  {
   "cell_type": "code",
   "execution_count": 17,
   "metadata": {},
   "outputs": [
    {
     "data": {
      "text/plain": [
       "Text(0.5, 1.0, '2D K-means Result')"
      ]
     },
     "execution_count": 17,
     "metadata": {},
     "output_type": "execute_result"
    },
    {
     "data": {
      "image/png": "[encoded data removed]",
      "text/plain": [
       "<Figure size 402.375x360 with 1 Axes>"
      ]
     },
     "metadata": {
      "needs_background": "light"
     },
     "output_type": "display_data"
    }
   ],
   "source": [
    "hierarchy2 = songs_1[['loudness']]\n",
    "\n",
    "# Fit the model.\n",
    "model = KMeans(n_clusters=2).fit(hierarchy2)\n",
    "\n",
    "# Get results.\n",
    "hierarchy2['cluster'] = model.predict(hierarchy2)\n",
    "\n",
    "# 결과값 살펴보기\n",
    "hierarchy2['cluster'].unique()\n",
    "\n",
    "# fit_reg = False는 회귀 옵션 제거, scatter_kws = {\"s\":50}는 산점도 그래프 점 크기 설정\n",
    "sb.lmplot('loudness','loudness',data = hierarchy2, fit_reg = False, scatter_kws = {\"s\":150}, hue = \"cluster\")\n",
    "plt.title('2D K-means Result')"
   ]
  },
  {
   "cell_type": "markdown",
   "metadata": {},
   "source": [
    "#### 3 tempo\n",
    "분당 비트 수 (BPM)로 트랙의 전체 예상 템포.   "
   ]
  },
  {
   "cell_type": "code",
   "execution_count": 18,
   "metadata": {},
   "outputs": [
    {
     "data": {
      "image/png": "[encoded data removed]",
      "text/plain": [
       "<Figure size 432x288 with 1 Axes>"
      ]
     },
     "metadata": {
      "needs_background": "light"
     },
     "output_type": "display_data"
    }
   ],
   "source": [
    "# 최적의 클러스터 갯수 찾기: Elbow Method\n",
    "distortions = []\n",
    "K = range(1,10)\n",
    "\n",
    "for k in K:\n",
    "    kmeanModel = KMeans(n_clusters=k).fit(hierarchy3)\n",
    "    kmeanModel.fit(hierarchy3)\n",
    "    distortions.append(sum(np.min(cdist(hierarchy3, kmeanModel.cluster_centers_, 'euclidean'), axis=1)) / hierarchy3.shape[0])\n",
    "# Plot the elbow\n",
    "plt.plot(K, distortions, 'bx-')\n",
    "plt.xlabel('k')\n",
    "plt.ylabel('Distortion')\n",
    "plt.title('The Elbow Method showing the optimal k')\n",
    "plt.show()"
   ]
  },
  {
   "cell_type": "code",
   "execution_count": 19,
   "metadata": {},
   "outputs": [
    {
     "name": "stdout",
     "output_type": "stream",
     "text": [
      "For n_clusters=2, The Silhouette Coefficient is 0.5759222628104986\n",
      "For n_clusters=3, The Silhouette Coefficient is 0.5787947545746738\n",
      "For n_clusters=4, The Silhouette Coefficient is 0.5364880588114765\n",
      "For n_clusters=5, The Silhouette Coefficient is 0.5444925990959162\n",
      "For n_clusters=6, The Silhouette Coefficient is 0.5317129641511327\n",
      "For n_clusters=7, The Silhouette Coefficient is 0.5328203663544603\n",
      "For n_clusters=8, The Silhouette Coefficient is 0.5372053103533274\n",
      "For n_clusters=9, The Silhouette Coefficient is 0.5265142747134941\n",
      "For n_clusters=10, The Silhouette Coefficient is 0.5302171047193146\n",
      "\n",
      "--------------------------2만개 data 결과----------------------\n",
      "For n_clusters=2, The Silhouette Coefficient is 0.5559078591897524\n",
      "For n_clusters=3, The Silhouette Coefficient is 0.5847977944526075\n",
      "For n_clusters=4, The Silhouette Coefficient is 0.5662586255868184\n",
      "For n_clusters=5, The Silhouette Coefficient is 0.5594814665696084\n",
      "For n_clusters=6, The Silhouette Coefficient is 0.5324077355241575\n",
      "For n_clusters=7, The Silhouette Coefficient is 0.5485038791541461\n",
      "For n_clusters=8, The Silhouette Coefficient is 0.5530242374947697\n",
      "For n_clusters=9, The Silhouette Coefficient is 0.5432055458090275\n",
      "For n_clusters=10, The Silhouette Coefficient is 0.5352567110622616\n",
      "\n"
     ]
    }
   ],
   "source": [
    "# 최적의 클러스터 갯수 찾기: Silhouette Coefficient(계수가 가장 높은 것이 최적 클러스터 갯수)\n",
    "for n_cluster in range(2, 11):\n",
    "    kmeans = KMeans(n_clusters=n_cluster).fit(hierarchy3)\n",
    "    label = kmeans.labels_\n",
    "    sil_coeff = silhouette_score(hierarchy3, label, metric='euclidean')\n",
    "    print(\"For n_clusters={}, The Silhouette Coefficient is {}\".format(n_cluster, sil_coeff))\n",
    "    \n",
    "print(\"\"\"\n",
    "--------------------------2만개 data 결과----------------------\n",
    "For n_clusters=2, The Silhouette Coefficient is 0.5559078591897524\n",
    "For n_clusters=3, The Silhouette Coefficient is 0.5847977944526075\n",
    "For n_clusters=4, The Silhouette Coefficient is 0.5662586255868184\n",
    "For n_clusters=5, The Silhouette Coefficient is 0.5594814665696084\n",
    "For n_clusters=6, The Silhouette Coefficient is 0.5324077355241575\n",
    "For n_clusters=7, The Silhouette Coefficient is 0.5485038791541461\n",
    "For n_clusters=8, The Silhouette Coefficient is 0.5530242374947697\n",
    "For n_clusters=9, The Silhouette Coefficient is 0.5432055458090275\n",
    "For n_clusters=10, The Silhouette Coefficient is 0.5352567110622616\n",
    "\"\"\")"
   ]
  },
  {
   "cell_type": "code",
   "execution_count": 20,
   "metadata": {},
   "outputs": [
    {
     "data": {
      "text/plain": [
       "Text(0.5, 1.0, '2D K-means Result')"
      ]
     },
     "execution_count": 20,
     "metadata": {},
     "output_type": "execute_result"
    },
    {
     "data": {
      "image/png": "[encoded data removed]",
      "text/plain": [
       "<Figure size 402.375x360 with 1 Axes>"
      ]
     },
     "metadata": {
      "needs_background": "light"
     },
     "output_type": "display_data"
    }
   ],
   "source": [
    "hierarchy3 = songs_1[['tempo']]\n",
    "\n",
    "# Fit the model.\n",
    "model = KMeans(n_clusters=3).fit(hierarchy3)\n",
    "\n",
    "# Get results.\n",
    "hierarchy3['cluster'] = model.predict(hierarchy3)\n",
    "\n",
    "# 결과값 살펴보기\n",
    "hierarchy3['cluster'].unique()\n",
    "\n",
    "# fit_reg = False는 회귀 옵션 제거, scatter_kws = {\"s\":50}는 산점도 그래프 점 크기 설정\n",
    "sb.lmplot('tempo','tempo',data = hierarchy3, fit_reg = False, scatter_kws = {\"s\":150}, hue = \"cluster\")\n",
    "plt.title('2D K-means Result')"
   ]
  },
  {
   "cell_type": "markdown",
   "metadata": {},
   "source": [
    "#### 4 time_signature\n",
    "박자"
   ]
  },
  {
   "cell_type": "code",
   "execution_count": 21,
   "metadata": {},
   "outputs": [
    {
     "data": {
      "image/png": "[encoded data removed]",
      "text/plain": [
       "<Figure size 432x288 with 1 Axes>"
      ]
     },
     "metadata": {
      "needs_background": "light"
     },
     "output_type": "display_data"
    }
   ],
   "source": [
    "# 최적의 클러스터 갯수 찾기: Elbow Method\n",
    "distortions = []\n",
    "K = range(1,10)\n",
    "\n",
    "for k in K:\n",
    "    kmeanModel = KMeans(n_clusters=k).fit(hierarchy4)\n",
    "    kmeanModel.fit(hierarchy4)\n",
    "    distortions.append(sum(np.min(cdist(hierarchy4, kmeanModel.cluster_centers_, 'euclidean'), axis=1)) / hierarchy4.shape[0])\n",
    "# Plot the elbow\n",
    "plt.plot(K, distortions, 'bx-')\n",
    "plt.xlabel('k')\n",
    "plt.ylabel('Distortion')\n",
    "plt.title('The Elbow Method showing the optimal k')\n",
    "plt.show()"
   ]
  },
  {
   "cell_type": "code",
   "execution_count": 22,
   "metadata": {},
   "outputs": [
    {
     "name": "stdout",
     "output_type": "stream",
     "text": [
      "For n_clusters=2, The Silhouette Coefficient is 0.954739229643311\n",
      "For n_clusters=3, The Silhouette Coefficient is 0.9756985831820398\n",
      "For n_clusters=4, The Silhouette Coefficient is 0.9990767042718608\n",
      "For n_clusters=5, The Silhouette Coefficient is 1.0\n",
      "For n_clusters=6, The Silhouette Coefficient is 1.0\n",
      "For n_clusters=7, The Silhouette Coefficient is 1.0\n",
      "For n_clusters=8, The Silhouette Coefficient is 1.0\n",
      "For n_clusters=9, The Silhouette Coefficient is 1.0\n",
      "For n_clusters=10, The Silhouette Coefficient is 1.0\n",
      "\n",
      "--------------------------2만개 data 결과----------------------\n",
      "For n_clusters=2, The Silhouette Coefficient is 0.9742156057571612\n",
      "For n_clusters=3, The Silhouette Coefficient is 0.9815542787199448\n",
      "For n_clusters=4, The Silhouette Coefficient is 0.9998708078931069\n",
      "For n_clusters=5, The Silhouette Coefficient is 1.0\n",
      "For n_clusters=6, The Silhouette Coefficient is 1.0\n",
      "For n_clusters=7, The Silhouette Coefficient is 1.0\n",
      "For n_clusters=8, The Silhouette Coefficient is 1.0\n",
      "For n_clusters=9, The Silhouette Coefficient is 1.0\n",
      "For n_clusters=10, The Silhouette Coefficient is 1.0\n",
      "\n",
      "\n"
     ]
    }
   ],
   "source": [
    "# 최적의 클러스터 갯수 찾기: Silhouette Coefficient(계수가 가장 높은 것이 최적 클러스터 갯수)\n",
    "for n_cluster in range(2, 11):\n",
    "    kmeans = KMeans(n_clusters=n_cluster).fit(hierarchy4)\n",
    "    label = kmeans.labels_\n",
    "    sil_coeff = silhouette_score(hierarchy4, label, metric='euclidean')\n",
    "    print(\"For n_clusters={}, The Silhouette Coefficient is {}\".format(n_cluster, sil_coeff))\n",
    "    \n",
    "print(\"\"\"\n",
    "--------------------------2만개 data 결과----------------------\n",
    "For n_clusters=2, The Silhouette Coefficient is 0.9742156057571612\n",
    "For n_clusters=3, The Silhouette Coefficient is 0.9815542787199448\n",
    "For n_clusters=4, The Silhouette Coefficient is 0.9998708078931069\n",
    "For n_clusters=5, The Silhouette Coefficient is 1.0\n",
    "For n_clusters=6, The Silhouette Coefficient is 1.0\n",
    "For n_clusters=7, The Silhouette Coefficient is 1.0\n",
    "For n_clusters=8, The Silhouette Coefficient is 1.0\n",
    "For n_clusters=9, The Silhouette Coefficient is 1.0\n",
    "For n_clusters=10, The Silhouette Coefficient is 1.0\n",
    "\n",
    "\"\"\")"
   ]
  },
  {
   "cell_type": "code",
   "execution_count": 23,
   "metadata": {},
   "outputs": [
    {
     "data": {
      "text/plain": [
       "Text(0.5, 1.0, '2D K-means Result')"
      ]
     },
     "execution_count": 23,
     "metadata": {},
     "output_type": "execute_result"
    },
    {
     "data": {
      "image/png": "[encoded data removed]",
      "text/plain": [
       "<Figure size 402.375x360 with 1 Axes>"
      ]
     },
     "metadata": {
      "needs_background": "light"
     },
     "output_type": "display_data"
    }
   ],
   "source": [
    "hierarchy4 = songs_1[['time_signature']]\n",
    "\n",
    "# Fit the model.\n",
    "model = KMeans(n_clusters=5).fit(hierarchy4)\n",
    "\n",
    "# Get results.\n",
    "hierarchy4['cluster'] = model.predict(hierarchy4)\n",
    "\n",
    "# 결과값 살펴보기\n",
    "hierarchy4['cluster'].unique()\n",
    "\n",
    "# fit_reg = False는 회귀 옵션 제거, scatter_kws = {\"s\":50}는 산점도 그래프 점 크기 설정\n",
    "sb.lmplot('time_signature','time_signature',data = hierarchy4, fit_reg = False, scatter_kws = {\"s\":150}, hue = \"cluster\")\n",
    "plt.title('2D K-means Result')"
   ]
  },
  {
   "cell_type": "markdown",
   "metadata": {},
   "source": [
    "#### 5 acousticness\n",
    "트랙의 음향에서 어쿠스틱 요소 여부에 대해 0.0에서 1.0까지의 특성을 측정.    \n",
    "1.0은 트랙이 어쿠스틱적이라는 측정.    "
   ]
  },
  {
   "cell_type": "code",
   "execution_count": 24,
   "metadata": {},
   "outputs": [
    {
     "data": {
      "image/png": "[encoded data removed]",
      "text/plain": [
       "<Figure size 432x288 with 1 Axes>"
      ]
     },
     "metadata": {
      "needs_background": "light"
     },
     "output_type": "display_data"
    }
   ],
   "source": [
    "# 최적의 클러스터 갯수 찾기: Elbow Method\n",
    "distortions = []\n",
    "K = range(1,10)\n",
    "\n",
    "for k in K:\n",
    "    kmeanModel = KMeans(n_clusters=k).fit(hierarchy5)\n",
    "    kmeanModel.fit(hierarchy5)\n",
    "    distortions.append(sum(np.min(cdist(hierarchy5, kmeanModel.cluster_centers_, 'euclidean'), axis=1)) / hierarchy5.shape[0])\n",
    "# Plot the elbow\n",
    "plt.plot(K, distortions, 'bx-')\n",
    "plt.xlabel('k')\n",
    "plt.ylabel('Distortion')\n",
    "plt.title('The Elbow Method showing the optimal k')\n",
    "plt.show()"
   ]
  },
  {
   "cell_type": "code",
   "execution_count": 25,
   "metadata": {},
   "outputs": [
    {
     "name": "stdout",
     "output_type": "stream",
     "text": [
      "For n_clusters=2, The Silhouette Coefficient is 0.7294694125658189\n",
      "For n_clusters=3, The Silhouette Coefficient is 0.6868043993819828\n",
      "For n_clusters=4, The Silhouette Coefficient is 0.6620565008440724\n",
      "For n_clusters=5, The Silhouette Coefficient is 0.6455482660864019\n",
      "For n_clusters=6, The Silhouette Coefficient is 0.6354247614276801\n",
      "For n_clusters=7, The Silhouette Coefficient is 0.6269452584012571\n",
      "For n_clusters=8, The Silhouette Coefficient is 0.6210561307714978\n",
      "For n_clusters=9, The Silhouette Coefficient is 0.6133284470261603\n",
      "For n_clusters=10, The Silhouette Coefficient is 0.6081659609276601\n",
      "\n",
      "--------------------------2만개 data 결과----------------------\n",
      "For n_clusters=2, The Silhouette Coefficient is 0.7231575171382643\n",
      "For n_clusters=3, The Silhouette Coefficient is 0.6728928851406547\n",
      "For n_clusters=4, The Silhouette Coefficient is 0.6515717480964063\n",
      "For n_clusters=5, The Silhouette Coefficient is 0.6375164183102188\n",
      "For n_clusters=6, The Silhouette Coefficient is 0.6197537456232791\n",
      "For n_clusters=7, The Silhouette Coefficient is 0.6143940264152659\n",
      "For n_clusters=8, The Silhouette Coefficient is 0.6002197880660268\n",
      "For n_clusters=9, The Silhouette Coefficient is 0.5960973970735999\n",
      "For n_clusters=10, The Silhouette Coefficient is 0.5960681157818892\n",
      "\n"
     ]
    }
   ],
   "source": [
    "# 최적의 클러스터 갯수 찾기: Silhouette Coefficient(계수가 가장 높은 것이 최적 클러스터 갯수)\n",
    "for n_cluster in range(2, 11):\n",
    "    kmeans = KMeans(n_clusters=n_cluster).fit(hierarchy5)\n",
    "    label = kmeans.labels_\n",
    "print(\"\"\"\n",
    "--------------------------2만개 data 결과----------------------\n",
    "For n_clusters=2, The Silhouette Coefficient is 0.7231575171382643\n",
    "    sil_coeff = silhouette_score(hierarchy5, label, metric='euclidean')\n",
    "    print(\"For n_clusters={}, The Silhouette Coefficient is {}\".format(n_cluster, sil_coeff))\n",
    "    \n",
    "For n_clusters=3, The Silhouette Coefficient is 0.6728928851406547\n",
    "For n_clusters=4, The Silhouette Coefficient is 0.6515717480964063\n",
    "For n_clusters=5, The Silhouette Coefficient is 0.6375164183102188\n",
    "For n_clusters=6, The Silhouette Coefficient is 0.6197537456232791\n",
    "For n_clusters=7, The Silhouette Coefficient is 0.6143940264152659\n",
    "For n_clusters=8, The Silhouette Coefficient is 0.6002197880660268\n",
    "For n_clusters=9, The Silhouette Coefficient is 0.5960973970735999\n",
    "For n_clusters=10, The Silhouette Coefficient is 0.5960681157818892\n",
    "\"\"\")"
   ]
  },
  {
   "cell_type": "code",
   "execution_count": 26,
   "metadata": {},
   "outputs": [
    {
     "data": {
      "text/plain": [
       "Text(0.5, 1.0, '2D K-means Result')"
      ]
     },
     "execution_count": 26,
     "metadata": {},
     "output_type": "execute_result"
    },
    {
     "data": {
      "image/png": "[encoded data removed]",
      "text/plain": [
       "<Figure size 402.375x360 with 1 Axes>"
      ]
     },
     "metadata": {
      "needs_background": "light"
     },
     "output_type": "display_data"
    }
   ],
   "source": [
    "hierarchy5 = songs_1[['acousticness']]\n",
    "\n",
    "# Fit the model.\n",
    "model = KMeans(n_clusters=3).fit(hierarchy5)\n",
    "\n",
    "# Get results.\n",
    "hierarchy5['cluster'] = model.predict(hierarchy5)\n",
    "\n",
    "# 결과값 살펴보기\n",
    "hierarchy5['cluster'].unique()\n",
    "\n",
    "# fit_reg = False는 회귀 옵션 제거, scatter_kws = {\"s\":50}는 산점도 그래프 점 크기 설정\n",
    "sb.lmplot('acousticness','acousticness',data = hierarchy5, fit_reg = False, scatter_kws = {\"s\":150}, hue = \"cluster\")\n",
    "plt.title('2D K-means Result')"
   ]
  },
  {
   "cell_type": "markdown",
   "metadata": {},
   "source": [
    "#### 6 danceability\n",
    "곡이 가지는 템포, 리듬의 안정성, 박자 강도 및 전반적인 규칙성을 포함한 음악 요소의 조합에 따라 춤에 적합한 트랙을 설명합니다.    \n",
    "0.0 부터 1.0까지의 값이 존재하고, 1.0은 가장 무용에 적합합니다.     "
   ]
  },
  {
   "cell_type": "code",
   "execution_count": 27,
   "metadata": {},
   "outputs": [
    {
     "data": {
      "image/png": "[encoded data removed]",
      "text/plain": [
       "<Figure size 432x288 with 1 Axes>"
      ]
     },
     "metadata": {
      "needs_background": "light"
     },
     "output_type": "display_data"
    }
   ],
   "source": [
    "# 최적의 클러스터 갯수 찾기: Elbow Method\n",
    "distortions = []\n",
    "K = range(1,10)\n",
    "\n",
    "for k in K:\n",
    "    kmeanModel = KMeans(n_clusters=k).fit(hierarchy7)\n",
    "    kmeanModel.fit(hierarchy7)\n",
    "    distortions.append(sum(np.min(cdist(hierarchy7, kmeanModel.cluster_centers_, 'euclidean'), axis=1)) / hierarchy7.shape[0])\n",
    "# Plot the elbow\n",
    "plt.plot(K, distortions, 'bx-')\n",
    "plt.xlabel('k')\n",
    "plt.ylabel('Distortion')\n",
    "plt.title('The Elbow Method showing the optimal k')\n",
    "plt.show()"
   ]
  },
  {
   "cell_type": "code",
   "execution_count": 28,
   "metadata": {},
   "outputs": [
    {
     "name": "stdout",
     "output_type": "stream",
     "text": [
      "For n_clusters=2, The Silhouette Coefficient is 0.5612624917136055\n",
      "For n_clusters=3, The Silhouette Coefficient is 0.5453678656998164\n",
      "For n_clusters=4, The Silhouette Coefficient is 0.5325776959565125\n",
      "For n_clusters=5, The Silhouette Coefficient is 0.5277539197458037\n",
      "For n_clusters=6, The Silhouette Coefficient is 0.5249880908140754\n",
      "For n_clusters=7, The Silhouette Coefficient is 0.5225421351842733\n",
      "For n_clusters=8, The Silhouette Coefficient is 0.5226406626241621\n",
      "For n_clusters=9, The Silhouette Coefficient is 0.5216683837772546\n",
      "For n_clusters=10, The Silhouette Coefficient is 0.5184774423702415\n",
      "\n",
      "--------------------------2만개 data 결과----------------------\n",
      "For n_clusters=2, The Silhouette Coefficient is 0.5668990922416474\n",
      "For n_clusters=3, The Silhouette Coefficient is 0.5402227258536184\n",
      "For n_clusters=4, The Silhouette Coefficient is 0.5319269406024023\n",
      "For n_clusters=5, The Silhouette Coefficient is 0.5244312184157359\n",
      "For n_clusters=6, The Silhouette Coefficient is 0.5296495247942999\n",
      "For n_clusters=7, The Silhouette Coefficient is 0.5227960414489765\n",
      "For n_clusters=8, The Silhouette Coefficient is 0.5226658081465275\n",
      "For n_clusters=9, The Silhouette Coefficient is 0.5260552296634247\n",
      "For n_clusters=10, The Silhouette Coefficient is 0.5284788538834818\n",
      "\n"
     ]
    }
   ],
   "source": [
    "# 최적의 클러스터 갯수 찾기: Silhouette Coefficient(계수가 가장 높은 것이 최적 클러스터 갯수)\n",
    "for n_cluster in range(2, 11):\n",
    "    kmeans = KMeans(n_clusters=n_cluster).fit(hierarchy6)\n",
    "    label = kmeans.labels_\n",
    "    sil_coeff = silhouette_score(hierarchy6, label, metric='euclidean')\n",
    "    print(\"For n_clusters={}, The Silhouette Coefficient is {}\".format(n_cluster, sil_coeff))\n",
    "    \n",
    "print(\"\"\"\n",
    "--------------------------2만개 data 결과----------------------\n",
    "For n_clusters=2, The Silhouette Coefficient is 0.5668990922416474\n",
    "For n_clusters=3, The Silhouette Coefficient is 0.5402227258536184\n",
    "For n_clusters=4, The Silhouette Coefficient is 0.5319269406024023\n",
    "For n_clusters=5, The Silhouette Coefficient is 0.5244312184157359\n",
    "For n_clusters=6, The Silhouette Coefficient is 0.5296495247942999\n",
    "For n_clusters=7, The Silhouette Coefficient is 0.5227960414489765\n",
    "For n_clusters=8, The Silhouette Coefficient is 0.5226658081465275\n",
    "For n_clusters=9, The Silhouette Coefficient is 0.5260552296634247\n",
    "For n_clusters=10, The Silhouette Coefficient is 0.5284788538834818\n",
    "\"\"\")"
   ]
  },
  {
   "cell_type": "code",
   "execution_count": 29,
   "metadata": {},
   "outputs": [
    {
     "data": {
      "text/plain": [
       "Text(0.5, 1.0, '2D K-means Result')"
      ]
     },
     "execution_count": 29,
     "metadata": {},
     "output_type": "execute_result"
    },
    {
     "data": {
      "image/png": "[encoded data removed]",
      "text/plain": [
       "<Figure size 402.375x360 with 1 Axes>"
      ]
     },
     "metadata": {
      "needs_background": "light"
     },
     "output_type": "display_data"
    }
   ],
   "source": [
    "hierarchy6 = songs_1[['danceability']]\n",
    "\n",
    "# Fit the model.\n",
    "model = KMeans(n_clusters=2).fit(hierarchy6)\n",
    "\n",
    "# Get results.\n",
    "hierarchy6['cluster'] = model.predict(hierarchy6)\n",
    "\n",
    "# 결과값 살펴보기\n",
    "hierarchy6['cluster'].unique()\n",
    "\n",
    "# fit_reg = False는 회귀 옵션 제거, scatter_kws = {\"s\":50}는 산점도 그래프 점 크기 설정\n",
    "sb.lmplot('danceability','danceability',data = hierarchy6, fit_reg = False, scatter_kws = {\"s\":150}, hue = \"cluster\")\n",
    "plt.title('2D K-means Result')"
   ]
  },
  {
   "cell_type": "markdown",
   "metadata": {},
   "source": [
    "#### 7 energy\n",
    "곡이 얼마나 강렬하고 활동적인지를 측정한 값. 0.0에서 1.0까지 값이 존재.  \n",
    "이 속성에 기여하는 지각 특징은 동적 범위,인지 된 소리 크기, 음색, 시작 속도 및 일반 엔트로피를 포함합니다.   "
   ]
  },
  {
   "cell_type": "code",
   "execution_count": 30,
   "metadata": {},
   "outputs": [
    {
     "data": {
      "image/png": "[encoded data removed]",
      "text/plain": [
       "<Figure size 432x288 with 1 Axes>"
      ]
     },
     "metadata": {
      "needs_background": "light"
     },
     "output_type": "display_data"
    }
   ],
   "source": [
    "# 최적의 클러스터 갯수 찾기: Elbow Method\n",
    "distortions = []\n",
    "K = range(1,10)\n",
    "\n",
    "for k in K:\n",
    "    kmeanModel = KMeans(n_clusters=k).fit(hierarchy6)\n",
    "    kmeanModel.fit(hierarchy6)\n",
    "    distortions.append(sum(np.min(cdist(hierarchy6, kmeanModel.cluster_centers_, 'euclidean'), axis=1)) / hierarchy6.shape[0])\n",
    "# Plot the elbow\n",
    "plt.plot(K, distortions, 'bx-')\n",
    "plt.xlabel('k')\n",
    "plt.ylabel('Distortion')\n",
    "plt.title('The Elbow Method showing the optimal k')\n",
    "plt.show()"
   ]
  },
  {
   "cell_type": "code",
   "execution_count": 31,
   "metadata": {},
   "outputs": [
    {
     "name": "stdout",
     "output_type": "stream",
     "text": [
      "For n_clusters=2, The Silhouette Coefficient is 0.6008518083637158\n",
      "For n_clusters=3, The Silhouette Coefficient is 0.5764629485669804\n",
      "For n_clusters=4, The Silhouette Coefficient is 0.5638909849873192\n",
      "For n_clusters=5, The Silhouette Coefficient is 0.5528808851851773\n",
      "For n_clusters=6, The Silhouette Coefficient is 0.5443437475726042\n",
      "For n_clusters=7, The Silhouette Coefficient is 0.5446665194797399\n",
      "For n_clusters=8, The Silhouette Coefficient is 0.539103623259708\n",
      "For n_clusters=9, The Silhouette Coefficient is 0.5392092545396666\n",
      "For n_clusters=10, The Silhouette Coefficient is 0.53456471240842\n",
      "\n",
      "--------------------------2만개 data 결과----------------------\n",
      "For n_clusters=2, The Silhouette Coefficient is 0.5884893241728968\n",
      "For n_clusters=3, The Silhouette Coefficient is 0.5591569656953753\n",
      "For n_clusters=4, The Silhouette Coefficient is 0.5540768747848006\n",
      "For n_clusters=5, The Silhouette Coefficient is 0.5416728263299176\n",
      "For n_clusters=6, The Silhouette Coefficient is 0.533423732960354\n",
      "For n_clusters=7, The Silhouette Coefficient is 0.5394039732052476\n",
      "For n_clusters=8, The Silhouette Coefficient is 0.5346137207027504\n",
      "For n_clusters=9, The Silhouette Coefficient is 0.5290859226048613\n",
      "For n_clusters=10, The Silhouette Coefficient is 0.5301602780732029\n",
      "\n"
     ]
    }
   ],
   "source": [
    "# 최적의 클러스터 갯수 찾기: Silhouette Coefficient(계수가 가장 높은 것이 최적 클러스터 갯수)\n",
    "for n_cluster in range(2, 11):\n",
    "    kmeans = KMeans(n_clusters=n_cluster).fit(hierarchy7)\n",
    "    label = kmeans.labels_\n",
    "    sil_coeff = silhouette_score(hierarchy7, label, metric='euclidean')\n",
    "    print(\"For n_clusters={}, The Silhouette Coefficient is {}\".format(n_cluster, sil_coeff))\n",
    "    \n",
    "print(\"\"\"\n",
    "--------------------------2만개 data 결과----------------------\n",
    "For n_clusters=2, The Silhouette Coefficient is 0.5884893241728968\n",
    "For n_clusters=3, The Silhouette Coefficient is 0.5591569656953753\n",
    "For n_clusters=4, The Silhouette Coefficient is 0.5540768747848006\n",
    "For n_clusters=5, The Silhouette Coefficient is 0.5416728263299176\n",
    "For n_clusters=6, The Silhouette Coefficient is 0.533423732960354\n",
    "For n_clusters=7, The Silhouette Coefficient is 0.5394039732052476\n",
    "For n_clusters=8, The Silhouette Coefficient is 0.5346137207027504\n",
    "For n_clusters=9, The Silhouette Coefficient is 0.5290859226048613\n",
    "For n_clusters=10, The Silhouette Coefficient is 0.5301602780732029\n",
    "\"\"\")"
   ]
  },
  {
   "cell_type": "code",
   "execution_count": 32,
   "metadata": {},
   "outputs": [
    {
     "data": {
      "text/plain": [
       "Text(0.5, 1.0, '2D K-means Result')"
      ]
     },
     "execution_count": 32,
     "metadata": {},
     "output_type": "execute_result"
    },
    {
     "data": {
      "image/png": "[encoded data removed]",
      "text/plain": [
       "<Figure size 402.375x360 with 1 Axes>"
      ]
     },
     "metadata": {
      "needs_background": "light"
     },
     "output_type": "display_data"
    }
   ],
   "source": [
    "hierarchy7 = songs_1[['energy']]\n",
    "\n",
    "# Fit the model.\n",
    "model = KMeans(n_clusters=3).fit(hierarchy7)\n",
    "\n",
    "# Get results.\n",
    "hierarchy7['cluster'] = model.predict(hierarchy7)\n",
    "\n",
    "# 결과값 살펴보기\n",
    "hierarchy7['cluster'].unique()\n",
    "\n",
    "# fit_reg = False는 회귀 옵션 제거, scatter_kws = {\"s\":50}는 산점도 그래프 점 크기 설정\n",
    "sb.lmplot('energy','energy',data = hierarchy7, fit_reg = False, scatter_kws = {\"s\":150}, hue = \"cluster\")\n",
    "plt.title('2D K-means Result')"
   ]
  },
  {
   "cell_type": "markdown",
   "metadata": {},
   "source": [
    "#### 8 instrumentalness\n",
    "트랙에 보컬이 없는지 여부를 예측합니다.    \n",
    "Instrumentalness 값이 1.0에 가까울수록 트랙에 보컬 콘텐츠가 포함되지 않을 확률이 높아집니다.      "
   ]
  },
  {
   "cell_type": "code",
   "execution_count": 33,
   "metadata": {},
   "outputs": [
    {
     "data": {
      "image/png": "[encoded data removed]",
      "text/plain": [
       "<Figure size 432x288 with 1 Axes>"
      ]
     },
     "metadata": {
      "needs_background": "light"
     },
     "output_type": "display_data"
    }
   ],
   "source": [
    "# 최적의 클러스터 갯수 찾기: Elbow Method\n",
    "distortions = []\n",
    "K = range(1,10)\n",
    "\n",
    "for k in K:\n",
    "    kmeanModel = KMeans(n_clusters=k).fit(hierarchy8)\n",
    "    kmeanModel.fit(hierarchy8)\n",
    "    distortions.append(sum(np.min(cdist(hierarchy8, kmeanModel.cluster_centers_, 'euclidean'), axis=1)) / hierarchy8.shape[0])\n",
    "# Plot the elbow\n",
    "plt.plot(K, distortions, 'bx-')\n",
    "plt.xlabel('k')\n",
    "plt.ylabel('Distortion')\n",
    "plt.title('The Elbow Method showing the optimal k')\n",
    "plt.show()"
   ]
  },
  {
   "cell_type": "code",
   "execution_count": 34,
   "metadata": {},
   "outputs": [
    {
     "name": "stdout",
     "output_type": "stream",
     "text": [
      "For n_clusters=2, The Silhouette Coefficient is 0.9269949862545479\n",
      "For n_clusters=3, The Silhouette Coefficient is 0.9120451199516765\n",
      "For n_clusters=4, The Silhouette Coefficient is 0.8987213022817209\n",
      "For n_clusters=5, The Silhouette Coefficient is 0.8881440882144185\n",
      "For n_clusters=6, The Silhouette Coefficient is 0.8790684577276336\n",
      "For n_clusters=7, The Silhouette Coefficient is 0.873574819075668\n",
      "For n_clusters=8, The Silhouette Coefficient is 0.8682664939807159\n",
      "For n_clusters=9, The Silhouette Coefficient is 0.8607466973175838\n",
      "For n_clusters=10, The Silhouette Coefficient is 0.8593931403938879\n",
      "\n",
      "--------------------------2만개 data 결과----------------------\n",
      "For n_clusters=2, The Silhouette Coefficient is 0.9397776192151874\n",
      "For n_clusters=3, The Silhouette Coefficient is 0.926664775806935\n",
      "For n_clusters=4, The Silhouette Coefficient is 0.9152855860250588\n",
      "For n_clusters=5, The Silhouette Coefficient is 0.9074592549587839\n",
      "For n_clusters=6, The Silhouette Coefficient is 0.905684876566936\n",
      "For n_clusters=7, The Silhouette Coefficient is 0.8986700619557062\n",
      "For n_clusters=8, The Silhouette Coefficient is 0.8946821787691638\n",
      "For n_clusters=9, The Silhouette Coefficient is 0.8893415278240993\n",
      "For n_clusters=10, The Silhouette Coefficient is 0.8808221477058428\n",
      "\n"
     ]
    }
   ],
   "source": [
    "# 최적의 클러스터 갯수 찾기: Silhouette Coefficient(계수가 가장 높은 것이 최적 클러스터 갯수)\n",
    "for n_cluster in range(2, 11):\n",
    "    kmeans = KMeans(n_clusters=n_cluster).fit(hierarchy8)\n",
    "    label = kmeans.labels_\n",
    "    sil_coeff = silhouette_score(hierarchy8, label, metric='euclidean')\n",
    "    print(\"For n_clusters={}, The Silhouette Coefficient is {}\".format(n_cluster, sil_coeff))\n",
    "    \n",
    "print(\"\"\"\n",
    "--------------------------2만개 data 결과----------------------\n",
    "For n_clusters=2, The Silhouette Coefficient is 0.9397776192151874\n",
    "For n_clusters=3, The Silhouette Coefficient is 0.926664775806935\n",
    "For n_clusters=4, The Silhouette Coefficient is 0.9152855860250588\n",
    "For n_clusters=5, The Silhouette Coefficient is 0.9074592549587839\n",
    "For n_clusters=6, The Silhouette Coefficient is 0.905684876566936\n",
    "For n_clusters=7, The Silhouette Coefficient is 0.8986700619557062\n",
    "For n_clusters=8, The Silhouette Coefficient is 0.8946821787691638\n",
    "For n_clusters=9, The Silhouette Coefficient is 0.8893415278240993\n",
    "For n_clusters=10, The Silhouette Coefficient is 0.8808221477058428\n",
    "\"\"\")"
   ]
  },
  {
   "cell_type": "code",
   "execution_count": 35,
   "metadata": {},
   "outputs": [
    {
     "data": {
      "text/plain": [
       "Text(0.5, 1.0, '2D K-means Result')"
      ]
     },
     "execution_count": 35,
     "metadata": {},
     "output_type": "execute_result"
    },
    {
     "data": {
      "image/png": "[encoded data removed]",
      "text/plain": [
       "<Figure size 402.375x360 with 1 Axes>"
      ]
     },
     "metadata": {
      "needs_background": "light"
     },
     "output_type": "display_data"
    }
   ],
   "source": [
    "hierarchy8 = songs_1[['instrumentalness']]\n",
    "\n",
    "# Fit the model.\n",
    "model = KMeans(n_clusters=3).fit(hierarchy8)\n",
    "\n",
    "# Get results.\n",
    "hierarchy8['cluster'] = model.predict(hierarchy8)\n",
    "\n",
    "# 결과값 살펴보기\n",
    "hierarchy8['cluster'].unique()\n",
    "\n",
    "# fit_reg = False는 회귀 옵션 제거, scatter_kws = {\"s\":50}는 산점도 그래프 점 크기 설정\n",
    "sb.lmplot('instrumentalness','instrumentalness',data = hierarchy8, fit_reg = False, scatter_kws = {\"s\":150}, hue = \"cluster\")\n",
    "plt.title('2D K-means Result')"
   ]
  },
  {
   "cell_type": "markdown",
   "metadata": {},
   "source": [
    "#### 9 liveness\n",
    "0.8보다 큰 값은 트랙이 라이브 트랙일 가능성이 큽니다."
   ]
  },
  {
   "cell_type": "code",
   "execution_count": 36,
   "metadata": {},
   "outputs": [
    {
     "data": {
      "image/png": "[encoded data removed]",
      "text/plain": [
       "<Figure size 432x288 with 1 Axes>"
      ]
     },
     "metadata": {
      "needs_background": "light"
     },
     "output_type": "display_data"
    }
   ],
   "source": [
    "# 최적의 클러스터 갯수 찾기: Elbow Method\n",
    "distortions = []\n",
    "K = range(1,10)\n",
    "\n",
    "for k in K:\n",
    "    kmeanModel = KMeans(n_clusters=k).fit(hierarchy9)\n",
    "    kmeanModel.fit(hierarchy9)\n",
    "    distortions.append(sum(np.min(cdist(hierarchy9, kmeanModel.cluster_centers_, 'euclidean'), axis=1)) / hierarchy9.shape[0])\n",
    "# Plot the elbow\n",
    "plt.plot(K, distortions, 'bx-')\n",
    "plt.xlabel('k')\n",
    "plt.ylabel('Distortion')\n",
    "plt.title('The Elbow Method showing the optimal k')\n",
    "plt.show()"
   ]
  },
  {
   "cell_type": "code",
   "execution_count": 11,
   "metadata": {},
   "outputs": [
    {
     "name": "stdout",
     "output_type": "stream",
     "text": [
      "For n_clusters=2, The Silhouette Coefficient is 0.7643489597124307\n",
      "For n_clusters=3, The Silhouette Coefficient is 0.7120722349316502\n",
      "For n_clusters=4, The Silhouette Coefficient is 0.7020344268181066\n",
      "For n_clusters=5, The Silhouette Coefficient is 0.6266070569486174\n",
      "For n_clusters=6, The Silhouette Coefficient is 0.6095397700869678\n",
      "For n_clusters=7, The Silhouette Coefficient is 0.5480585070209096\n",
      "For n_clusters=8, The Silhouette Coefficient is 0.5368203929839228\n",
      "For n_clusters=9, The Silhouette Coefficient is 0.5399411869742752\n",
      "For n_clusters=10, The Silhouette Coefficient is 0.5419495254286522\n",
      "\n",
      "--------------------------2만개 data 결과----------------------\n",
      "For n_clusters=2, The Silhouette Coefficient is 0.7249971789509388\n",
      "For n_clusters=3, The Silhouette Coefficient is 0.7118731738851806\n",
      "For n_clusters=4, The Silhouette Coefficient is 0.6328283232402698\n",
      "For n_clusters=5, The Silhouette Coefficient is 0.6258582750238566\n",
      "For n_clusters=6, The Silhouette Coefficient is 0.5215925550661045\n",
      "For n_clusters=7, The Silhouette Coefficient is 0.5274835130050511\n",
      "For n_clusters=8, The Silhouette Coefficient is 0.5371589905696009\n",
      "For n_clusters=9, The Silhouette Coefficient is 0.5344829676138343\n",
      "For n_clusters=10, The Silhouette Coefficient is 0.5336034360459937\n",
      "\n"
     ]
    }
   ],
   "source": [
    "# 최적의 클러스터 갯수 찾기: Silhouette Coefficient(계수가 가장 높은 것이 최적 클러스터 갯수)\n",
    "for n_cluster in range(2, 11):\n",
    "    kmeans = KMeans(n_clusters=n_cluster).fit(hierarchy9)\n",
    "    label = kmeans.labels_\n",
    "    sil_coeff = silhouette_score(hierarchy9, label, metric='euclidean')\n",
    "    print(\"For n_clusters={}, The Silhouette Coefficient is {}\".format(n_cluster, sil_coeff))\n",
    "    \n",
    "print(\"\"\"\n",
    "--------------------------2만개 data 결과----------------------\n",
    "For n_clusters=2, The Silhouette Coefficient is 0.7249971789509388\n",
    "For n_clusters=3, The Silhouette Coefficient is 0.7118731738851806\n",
    "For n_clusters=4, The Silhouette Coefficient is 0.6328283232402698\n",
    "For n_clusters=5, The Silhouette Coefficient is 0.6258582750238566\n",
    "For n_clusters=6, The Silhouette Coefficient is 0.5215925550661045\n",
    "For n_clusters=7, The Silhouette Coefficient is 0.5274835130050511\n",
    "For n_clusters=8, The Silhouette Coefficient is 0.5371589905696009\n",
    "For n_clusters=9, The Silhouette Coefficient is 0.5344829676138343\n",
    "For n_clusters=10, The Silhouette Coefficient is 0.5336034360459937\n",
    "\"\"\")"
   ]
  },
  {
   "cell_type": "code",
   "execution_count": 12,
   "metadata": {},
   "outputs": [
    {
     "data": {
      "text/plain": [
       "Text(0.5, 1.0, '2D K-means Result')"
      ]
     },
     "execution_count": 12,
     "metadata": {},
     "output_type": "execute_result"
    },
    {
     "data": {
      "image/png": "[encoded data removed]",
      "text/plain": [
       "<Figure size 402.375x360 with 1 Axes>"
      ]
     },
     "metadata": {
      "needs_background": "light"
     },
     "output_type": "display_data"
    }
   ],
   "source": [
    "hierarchy9 = songs_1[['liveness']]\n",
    "\n",
    "# Fit the model.\n",
    "model = KMeans(n_clusters=3).fit(hierarchy9)\n",
    "\n",
    "# Get results.\n",
    "hierarchy9['cluster'] = model.predict(hierarchy9)\n",
    "\n",
    "# 결과값 살펴보기\n",
    "hierarchy9['cluster'].unique()\n",
    "\n",
    "# fit_reg = False는 회귀 옵션 제거, scatter_kws = {\"s\":50}는 산점도 그래프 점 크기 설정\n",
    "sb.lmplot('liveness','liveness',data = hierarchy9, fit_reg = False, scatter_kws = {\"s\":150}, hue = \"cluster\")\n",
    "plt.title('2D K-means Result')"
   ]
  },
  {
   "cell_type": "markdown",
   "metadata": {},
   "source": [
    "#### 10 speechiness\n",
    "Speechiness는 트랙에서 말한 단어의 존재를 감지합니다.    \n",
    "0.66 이상의 값은 전적으로 음성 단어로 만들어진 트랙을 나타냅니다.      \n",
    "0.33에서 0.66 사이의 값은 랩 음악과 같은 경우를 포함하여 섹션 또는 계층으로 음악과 음성을 모두 포함 할 수있는 트랙을 나타냅니다.     \n",
    "0.33 미만의 값은 음악 및 기타 비언 연적 트랙을 나타낼 가능성이 가장 높습니다.     "
   ]
  },
  {
   "cell_type": "code",
   "execution_count": 13,
   "metadata": {},
   "outputs": [
    {
     "data": {
      "image/png": "[encoded data removed]",
      "text/plain": [
       "<Figure size 432x288 with 1 Axes>"
      ]
     },
     "metadata": {
      "needs_background": "light"
     },
     "output_type": "display_data"
    }
   ],
   "source": [
    "# 최적의 클러스터 갯수 찾기: Elbow Method\n",
    "distortions = []\n",
    "K = range(1,10)\n",
    "\n",
    "for k in K:\n",
    "    kmeanModel = KMeans(n_clusters=k).fit(hierarchy10)\n",
    "    kmeanModel.fit(hierarchy10)\n",
    "    distortions.append(sum(np.min(cdist(hierarchy10, kmeanModel.cluster_centers_, 'euclidean'), axis=1)) / hierarchy10.shape[0])\n",
    "# Plot the elbow\n",
    "plt.plot(K, distortions, 'bx-')\n",
    "plt.xlabel('k')\n",
    "plt.ylabel('Distortion')\n",
    "plt.title('The Elbow Method showing the optimal k')\n",
    "plt.show()"
   ]
  },
  {
   "cell_type": "code",
   "execution_count": 14,
   "metadata": {},
   "outputs": [
    {
     "name": "stdout",
     "output_type": "stream",
     "text": [
      "For n_clusters=2, The Silhouette Coefficient is 0.8089257593464313\n",
      "For n_clusters=3, The Silhouette Coefficient is 0.8014700959139541\n",
      "For n_clusters=4, The Silhouette Coefficient is 0.7392497896567619\n",
      "For n_clusters=5, The Silhouette Coefficient is 0.7011693664589029\n",
      "For n_clusters=6, The Silhouette Coefficient is 0.6687066094816982\n",
      "For n_clusters=7, The Silhouette Coefficient is 0.6493659848636042\n",
      "For n_clusters=8, The Silhouette Coefficient is 0.626677583246078\n",
      "For n_clusters=9, The Silhouette Coefficient is 0.6108418958081664\n",
      "For n_clusters=10, The Silhouette Coefficient is 0.593669843579409\n",
      "\n",
      "--------------------------2만개 data 결과----------------------\n",
      "For n_clusters=2, The Silhouette Coefficient is 0.9536883218365044\n",
      "For n_clusters=3, The Silhouette Coefficient is 0.9055975843553611\n",
      "For n_clusters=4, The Silhouette Coefficient is 0.7000378575276186\n",
      "For n_clusters=5, The Silhouette Coefficient is 0.6982522162667526\n",
      "For n_clusters=6, The Silhouette Coefficient is 0.6954219611969468\n",
      "For n_clusters=7, The Silhouette Coefficient is 0.6334627063237654\n",
      "For n_clusters=8, The Silhouette Coefficient is 0.6261900329940658\n",
      "For n_clusters=9, The Silhouette Coefficient is 0.5957724185602594\n",
      "For n_clusters=10, The Silhouette Coefficient is 0.5968445803972106\n",
      "\n",
      "\n"
     ]
    }
   ],
   "source": [
    "# 최적의 클러스터 갯수 찾기: Silhouette Coefficient(계수가 가장 높은 것이 최적 클러스터 갯수)\n",
    "for n_cluster in range(2, 11):\n",
    "    kmeans = KMeans(n_clusters=n_cluster).fit(hierarchy10)\n",
    "    label = kmeans.labels_\n",
    "    sil_coeff = silhouette_score(hierarchy10, label, metric='euclidean')\n",
    "    print(\"For n_clusters={}, The Silhouette Coefficient is {}\".format(n_cluster, sil_coeff))\n",
    "    \n",
    "print(\"\"\"\n",
    "--------------------------2만개 data 결과----------------------\n",
    "For n_clusters=2, The Silhouette Coefficient is 0.9536883218365044\n",
    "For n_clusters=3, The Silhouette Coefficient is 0.9055975843553611\n",
    "For n_clusters=4, The Silhouette Coefficient is 0.7000378575276186\n",
    "For n_clusters=5, The Silhouette Coefficient is 0.6982522162667526\n",
    "For n_clusters=6, The Silhouette Coefficient is 0.6954219611969468\n",
    "For n_clusters=7, The Silhouette Coefficient is 0.6334627063237654\n",
    "For n_clusters=8, The Silhouette Coefficient is 0.6261900329940658\n",
    "For n_clusters=9, The Silhouette Coefficient is 0.5957724185602594\n",
    "For n_clusters=10, The Silhouette Coefficient is 0.5968445803972106\n",
    "\n",
    "\"\"\")"
   ]
  },
  {
   "cell_type": "code",
   "execution_count": 15,
   "metadata": {},
   "outputs": [
    {
     "data": {
      "text/plain": [
       "Text(0.5, 1.0, '2D K-means Result')"
      ]
     },
     "execution_count": 15,
     "metadata": {},
     "output_type": "execute_result"
    },
    {
     "data": {
      "image/png": "[encoded data removed]",
      "text/plain": [
       "<Figure size 402.375x360 with 1 Axes>"
      ]
     },
     "metadata": {
      "needs_background": "light"
     },
     "output_type": "display_data"
    }
   ],
   "source": [
    "hierarchy10 = songs_1[['speechiness']]\n",
    "\n",
    "# Fit the model.\n",
    "model = KMeans(n_clusters=3).fit(hierarchy10)\n",
    "\n",
    "# Get results.\n",
    "hierarchy10['cluster'] = model.predict(hierarchy10)\n",
    "\n",
    "# 결과값 살펴보기\n",
    "hierarchy10['cluster'].unique()\n",
    "\n",
    "# fit_reg = False는 회귀 옵션 제거, scatter_kws = {\"s\":50}는 산점도 그래프 점 크기 설정\n",
    "sb.lmplot('speechiness','speechiness',data = hierarchy10, fit_reg = False, scatter_kws = {\"s\":150}, hue = \"cluster\")\n",
    "plt.title('2D K-means Result')"
   ]
  },
  {
   "cell_type": "markdown",
   "metadata": {},
   "source": [
    "#### 11 audio_valence\n",
    "높은 원자가를 가진 트랙은 긍정적 (예 : 행복, 쾌활, 행복),    \n",
    "낮은 원자가의 트랙은 더 부정적 (예 : 슬프고 우울, 분노)"
   ]
  },
  {
   "cell_type": "code",
   "execution_count": 16,
   "metadata": {},
   "outputs": [
    {
     "data": {
      "image/png": "[encoded data removed]",
      "text/plain": [
       "<Figure size 432x288 with 1 Axes>"
      ]
     },
     "metadata": {
      "needs_background": "light"
     },
     "output_type": "display_data"
    }
   ],
   "source": [
    "# 최적의 클러스터 갯수 찾기: Elbow Method\n",
    "distortions = []\n",
    "K = range(1,10)\n",
    "\n",
    "for k in K:\n",
    "    kmeanModel = KMeans(n_clusters=k).fit(hierarchy11)\n",
    "    kmeanModel.fit(hierarchy11)\n",
    "    distortions.append(sum(np.min(cdist(hierarchy11, kmeanModel.cluster_centers_, 'euclidean'), axis=1)) / hierarchy11.shape[0])\n",
    "# Plot the elbow\n",
    "plt.plot(K, distortions, 'bx-')\n",
    "plt.xlabel('k')\n",
    "plt.ylabel('Distortion')\n",
    "plt.title('The Elbow Method showing the optimal k')\n",
    "plt.show()"
   ]
  },
  {
   "cell_type": "code",
   "execution_count": 17,
   "metadata": {},
   "outputs": [
    {
     "name": "stdout",
     "output_type": "stream",
     "text": [
      "For n_clusters=2, The Silhouette Coefficient is 0.6038691000875359\n",
      "For n_clusters=3, The Silhouette Coefficient is 0.5670658723482085\n",
      "For n_clusters=4, The Silhouette Coefficient is 0.5581618356730114\n",
      "For n_clusters=5, The Silhouette Coefficient is 0.5503768290998844\n",
      "For n_clusters=6, The Silhouette Coefficient is 0.5428278453555995\n",
      "For n_clusters=7, The Silhouette Coefficient is 0.5409920376906932\n",
      "For n_clusters=8, The Silhouette Coefficient is 0.5408226534429205\n",
      "For n_clusters=9, The Silhouette Coefficient is 0.5380406933771622\n",
      "For n_clusters=10, The Silhouette Coefficient is 0.5383664405084335\n",
      "\n",
      "--------------------------2만개 data 결과----------------------\n",
      "For n_clusters=2, The Silhouette Coefficient is 0.5998756091612572\n",
      "For n_clusters=3, The Silhouette Coefficient is 0.5657108996263202\n",
      "For n_clusters=4, The Silhouette Coefficient is 0.5505145892187246\n",
      "For n_clusters=5, The Silhouette Coefficient is 0.5479664165245922\n",
      "For n_clusters=6, The Silhouette Coefficient is 0.5391770085006381\n",
      "For n_clusters=7, The Silhouette Coefficient is 0.5397842932229925\n",
      "For n_clusters=8, The Silhouette Coefficient is 0.5392455264917894\n",
      "For n_clusters=9, The Silhouette Coefficient is 0.535083430815819\n",
      "For n_clusters=10, The Silhouette Coefficient is 0.5334898447054474\n",
      "\n"
     ]
    }
   ],
   "source": [
    "# 최적의 클러스터 갯수 찾기: Silhouette Coefficient(계수가 가장 높은 것이 최적 클러스터 갯수)\n",
    "for n_cluster in range(2, 11):\n",
    "    kmeans = KMeans(n_clusters=n_cluster).fit(hierarchy11)\n",
    "    label = kmeans.labels_\n",
    "    sil_coeff = silhouette_score(hierarchy11, label, metric='euclidean')\n",
    "    print(\"For n_clusters={}, The Silhouette Coefficient is {}\".format(n_cluster, sil_coeff))\n",
    "    \n",
    "print(\"\"\"\n",
    "--------------------------2만개 data 결과----------------------\n",
    "For n_clusters=2, The Silhouette Coefficient is 0.5998756091612572\n",
    "For n_clusters=3, The Silhouette Coefficient is 0.5657108996263202\n",
    "For n_clusters=4, The Silhouette Coefficient is 0.5505145892187246\n",
    "For n_clusters=5, The Silhouette Coefficient is 0.5479664165245922\n",
    "For n_clusters=6, The Silhouette Coefficient is 0.5391770085006381\n",
    "For n_clusters=7, The Silhouette Coefficient is 0.5397842932229925\n",
    "For n_clusters=8, The Silhouette Coefficient is 0.5392455264917894\n",
    "For n_clusters=9, The Silhouette Coefficient is 0.535083430815819\n",
    "For n_clusters=10, The Silhouette Coefficient is 0.5334898447054474\n",
    "\"\"\")"
   ]
  },
  {
   "cell_type": "code",
   "execution_count": 18,
   "metadata": {},
   "outputs": [
    {
     "data": {
      "text/plain": [
       "Text(0.5, 1.0, '2D K-means Result')"
      ]
     },
     "execution_count": 18,
     "metadata": {},
     "output_type": "execute_result"
    },
    {
     "data": {
      "image/png": "[encoded data removed]",
      "text/plain": [
       "<Figure size 402.375x360 with 1 Axes>"
      ]
     },
     "metadata": {
      "needs_background": "light"
     },
     "output_type": "display_data"
    }
   ],
   "source": [
    "hierarchy11 = songs_1[['valence']]\n",
    "\n",
    "# Fit the model.\n",
    "model = KMeans(n_clusters=2).fit(hierarchy11)\n",
    "\n",
    "# Get results.\n",
    "hierarchy11['cluster'] = model.predict(hierarchy11)\n",
    "\n",
    "# 결과값 살펴보기\n",
    "hierarchy11['cluster'].unique()\n",
    "\n",
    "# fit_reg = False는 회귀 옵션 제거, scatter_kws = {\"s\":50}는 산점도 그래프 점 크기 설정\n",
    "sb.lmplot('valence','valence',data = hierarchy11, fit_reg = False, scatter_kws = {\"s\":150}, hue = \"cluster\")\n",
    "plt.title('2D K-means Result')"
   ]
  },
  {
   "cell_type": "markdown",
   "metadata": {},
   "source": [
    "#### 12 KEY\n",
    "곡의 키를 나타내줌 . 범주형"
   ]
  },
  {
   "cell_type": "code",
   "execution_count": 19,
   "metadata": {},
   "outputs": [
    {
     "data": {
      "image/png": "[encoded data removed]",
      "text/plain": [
       "<Figure size 432x288 with 1 Axes>"
      ]
     },
     "metadata": {
      "needs_background": "light"
     },
     "output_type": "display_data"
    }
   ],
   "source": [
    "# 최적의 클러스터 갯수 찾기: Elbow Method\n",
    "distortions = []\n",
    "K = range(1,10)\n",
    "\n",
    "for k in K:\n",
    "    kmeanModel = KMeans(n_clusters=k).fit(hierarchy12)\n",
    "    kmeanModel.fit(hierarchy12)\n",
    "    distortions.append(sum(np.min(cdist(hierarchy12, kmeanModel.cluster_centers_, 'euclidean'), axis=1)) / hierarchy12.shape[0])\n",
    "# Plot the elbow\n",
    "plt.plot(K, distortions, 'bx-')\n",
    "plt.xlabel('k')\n",
    "plt.ylabel('Distortion')\n",
    "plt.title('The Elbow Method showing the optimal k')\n",
    "plt.show()"
   ]
  },
  {
   "cell_type": "code",
   "execution_count": 20,
   "metadata": {},
   "outputs": [
    {
     "name": "stdout",
     "output_type": "stream",
     "text": [
      "For n_clusters=2, The Silhouette Coefficient is 0.6500338764466757\n",
      "For n_clusters=3, The Silhouette Coefficient is 0.6505139942200704\n",
      "For n_clusters=4, The Silhouette Coefficient is 0.662160050641121\n",
      "For n_clusters=5, The Silhouette Coefficient is 0.6737275584405801\n",
      "For n_clusters=6, The Silhouette Coefficient is 0.7051009273030128\n",
      "For n_clusters=7, The Silhouette Coefficient is 0.7623485626618655\n",
      "For n_clusters=8, The Silhouette Coefficient is 0.7715904994500151\n",
      "For n_clusters=9, The Silhouette Coefficient is 0.8235221338042692\n",
      "For n_clusters=10, The Silhouette Coefficient is 0.896387319754205\n",
      "\n",
      "\n",
      "\n"
     ]
    }
   ],
   "source": [
    "# 최적의 클러스터 갯수 찾기: Silhouette Coefficient(계수가 가장 높은 것이 최적 클러스터 갯수)\n",
    "for n_cluster in range(2, 11):\n",
    "    kmeans = KMeans(n_clusters=n_cluster).fit(hierarchy12)\n",
    "    label = kmeans.labels_\n",
    "    sil_coeff = silhouette_score(hierarchy12, label, metric='euclidean')\n",
    "    print(\"For n_clusters={}, The Silhouette Coefficient is {}\".format(n_cluster, sil_coeff))\n",
    "    \n",
    "print(\"\"\"\n",
    "\n",
    "\"\"\")"
   ]
  },
  {
   "cell_type": "code",
   "execution_count": 21,
   "metadata": {},
   "outputs": [
    {
     "data": {
      "text/plain": [
       "Text(0.5, 1.0, '2D K-means Result')"
      ]
     },
     "execution_count": 21,
     "metadata": {},
     "output_type": "execute_result"
    },
    {
     "data": {
      "image/png": "[encoded data removed]",
      "text/plain": [
       "<Figure size 408.625x360 with 1 Axes>"
      ]
     },
     "metadata": {
      "needs_background": "light"
     },
     "output_type": "display_data"
    }
   ],
   "source": [
    "hierarchy11 = songs_1[['key']]\n",
    "\n",
    "# Fit the model.\n",
    "model = KMeans(n_clusters=11).fit(hierarchy12)\n",
    "\n",
    "# Get results.\n",
    "hierarchy12['cluster'] = model.predict(hierarchy12)\n",
    "\n",
    "# 결과값 살펴보기\n",
    "hierarchy12['cluster'].unique()\n",
    "\n",
    "# fit_reg = False는 회귀 옵션 제거, scatter_kws = {\"s\":50}는 산점도 그래프 점 크기 설정\n",
    "sb.lmplot('key','key',data = hierarchy12, fit_reg = False, scatter_kws = {\"s\":150}, hue = \"cluster\")\n",
    "plt.title('2D K-means Result')"
   ]
  },
  {
   "cell_type": "code",
   "execution_count": null,
   "metadata": {},
   "outputs": [],
   "source": []
  },
  {
   "cell_type": "code",
   "execution_count": null,
   "metadata": {},
   "outputs": [],
   "source": []
  },
  {
   "cell_type": "markdown",
   "metadata": {},
   "source": [
    "## 군집화 방식을 여러가지로 시도해보기\n",
    "< 변수가 될만한 것 >\n",
    "1. 표준화 여부\n",
    "DURATION 칼럼의 경우 값이 너무 크게 나오므로 이 값에 따라 군집이 좌지우지 될 가능성이 높다.\n",
    "군집화에 있어서 표준화를 시키는 것이 어떻게 영향을 미치는지 실행해 보자.\n",
    "\n",
    "2. 계층적으로 군집화\n",
    "계층적으로 군집화를 진행할때 가장 큰 분류를 먼저 하는 것 부터 작은 요소들을 분류하는 것으로 생각해 보아야 할 것 같다.\n",
    "\n",
    ">MBTI 방식의 분류 방법을 적용 칼럼별 분류를 적용\n",
    "\n",
    "\n",
    "\n",
    "\n"
   ]
  },
  {
   "cell_type": "code",
   "execution_count": null,
   "metadata": {},
   "outputs": [],
   "source": []
  },
  {
   "cell_type": "code",
   "execution_count": null,
   "metadata": {},
   "outputs": [],
   "source": []
  },
  {
   "cell_type": "code",
   "execution_count": null,
   "metadata": {},
   "outputs": [],
   "source": []
  }
 ],
 "metadata": {
  "kernelspec": {
   "display_name": "Python 3",
   "language": "python",
   "name": "python3"
  },
  "language_info": {
   "codemirror_mode": {
    "name": "ipython",
    "version": 3
   },
   "file_extension": ".py",
   "mimetype": "text/x-python",
   "name": "python",
   "nbconvert_exporter": "python",
   "pygments_lexer": "ipython3",
   "version": "3.7.2"
  }
 },
 "nbformat": 4,
 "nbformat_minor": 2
}
